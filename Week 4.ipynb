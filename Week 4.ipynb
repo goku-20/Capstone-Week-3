{
    "nbformat_minor": 2, 
    "cells": [
        {
            "source": "# Introduction to the bussiness problem- Project By- Nikhil Kapu", 
            "cell_type": "markdown", 
            "metadata": {}
        }, 
        {
            "source": "## A brief description\n\n  ### **Business Understanding**  \n   A Potential Problem brought up by Client -   \n        What is the best location to open a mall in USA?\n\n     \n        let's assume we have a successful Entrepreneur in Asia and now he wants to increase his revenue by launching bussiness in other countries. He wants to open a Mall in USA but not sure in which City and Locality should he open the Mall so that he could have a successful bussiness.\n\n### **Analytical approach**-\nAccording to the need of client first we have to find the City and then the Locality in that city for Business. To solve this particular problem and to gather data we will set few Benchmarks for the City and the locality in which opening a Casino/Shopping Mall would be Successful. \n\n1. For discovering the City following benchmarks must meet\n    + Nightlife\n    + Services\n    + Transport\n    + Residence\n    + Universities\n    + Food\n    + Entertainment\n    + Travel\n    + Outdoor Activities  \n\n\n2. Benchmarks for the Locality in City\n    + Per Capita Income\n    + Population\n    + Population Density\n    + Venues\n\n## **Data Requirements and Description**-\n\nData that will be required for solving the problem - \n+ List of all the cities in United States with population density and coordinates\n+ List of all the cities in United States with Per Capita Income\n+ List of all venues in each city \n+ List of all venues in each locality in the selected city  \n\n### Source of Data\n\n**Wikipedia**\n+ https://en.wikipedia.org/wiki/List_of_United_States_cities_by_population\n+ https://en.wikipedia.org/wiki/List_of_United_States_counties_by_per_capita_income\n\n**FourSquare API**\n+ For Venues in CIty and in Each locality in selected city.\n\n### Data Description (How to use Data to solve the Problem?)\nBy Using the Wikipedia data we will first analyse the data and then focus on certain benchmarks to discover the best City in USA to open a Casino/Shopping mall. Then by leveraging the Foursquare data we will compare and try to find the best locality. \nBased on Scores we will try to determine the Locality in simillar way.", 
            "cell_type": "markdown", 
            "metadata": {}
        }
    ], 
    "metadata": {
        "kernelspec": {
            "display_name": "Python 3.6", 
            "name": "python3", 
            "language": "python"
        }, 
        "language_info": {
            "mimetype": "text/x-python", 
            "nbconvert_exporter": "python", 
            "version": "3.6.8", 
            "name": "python", 
            "file_extension": ".py", 
            "pygments_lexer": "ipython3", 
            "codemirror_mode": {
                "version": 3, 
                "name": "ipython"
            }
        }
    }, 
    "nbformat": 4
}